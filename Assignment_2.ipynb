{
 "cells": [
  {
   "cell_type": "code",
   "execution_count": 28,
   "id": "acd4db7b",
   "metadata": {},
   "outputs": [],
   "source": [
    "import numpy as np"
   ]
  },
  {
   "cell_type": "code",
   "execution_count": 34,
   "id": "721f418f",
   "metadata": {},
   "outputs": [],
   "source": [
    "file ='tipsf.csv'"
   ]
  },
  {
   "cell_type": "code",
   "execution_count": 35,
   "id": "af40f72e",
   "metadata": {},
   "outputs": [
    {
     "data": {
      "text/plain": [
       "array([[  0.  ,  16.99,   1.01, ...,   1.  ,   0.  ,   2.  ],\n",
       "       [  1.  ,  10.34,   1.66, ...,   1.  ,   0.  ,   3.  ],\n",
       "       [  2.  ,  21.01,   3.5 , ...,   1.  ,   0.  ,   3.  ],\n",
       "       ...,\n",
       "       [241.  ,  22.67,   2.  , ...,   0.  ,   0.  ,   2.  ],\n",
       "       [242.  ,  17.82,   1.75, ...,   0.  ,   0.  ,   2.  ],\n",
       "       [243.  ,  18.78,   3.  , ...,   2.  ,   0.  ,   2.  ]])"
      ]
     },
     "execution_count": 35,
     "metadata": {},
     "output_type": "execute_result"
    }
   ],
   "source": [
    "x = np.genfromtxt(file,delimiter=',',skip_header=True)\n",
    "x"
   ]
  },
  {
   "cell_type": "markdown",
   "id": "4ac96786",
   "metadata": {},
   "source": [
    "###### 1)What is the total bill value?"
   ]
  },
  {
   "cell_type": "code",
   "execution_count": 4,
   "id": "71aed06c",
   "metadata": {},
   "outputs": [
    {
     "name": "stdout",
     "output_type": "stream",
     "text": [
      "[[  0.    16.99   1.01 ...   1.     0.     2.  ]\n",
      " [  1.    10.34   1.66 ...   1.     0.     3.  ]\n",
      " [  2.    21.01   3.5  ...   1.     0.     3.  ]\n",
      " ...\n",
      " [241.    22.67   2.   ...   0.     0.     2.  ]\n",
      " [242.    17.82   1.75 ...   0.     0.     2.  ]\n",
      " [243.    18.78   3.   ...   2.     0.     2.  ]]\n",
      "4827.77\n"
     ]
    }
   ],
   "source": [
    "sum_total_bill =np.sum(x[:,1])\n",
    "print(x)\n",
    "print(sum_total_bill)"
   ]
  },
  {
   "cell_type": "markdown",
   "id": "3caed237",
   "metadata": {},
   "source": [
    "###### 2)What is total tip value."
   ]
  },
  {
   "cell_type": "code",
   "execution_count": 5,
   "id": "e63e2379",
   "metadata": {},
   "outputs": [
    {
     "name": "stdout",
     "output_type": "stream",
     "text": [
      "[[  0.    16.99   1.01 ...   1.     0.     2.  ]\n",
      " [  1.    10.34   1.66 ...   1.     0.     3.  ]\n",
      " [  2.    21.01   3.5  ...   1.     0.     3.  ]\n",
      " ...\n",
      " [241.    22.67   2.   ...   0.     0.     2.  ]\n",
      " [242.    17.82   1.75 ...   0.     0.     2.  ]\n",
      " [243.    18.78   3.   ...   2.     0.     2.  ]]\n",
      "731.5799999999999\n"
     ]
    }
   ],
   "source": [
    "sum_tip_vaue = np.sum(x[:,2])\n",
    "print(x)\n",
    "print(sum_tip_vaue)"
   ]
  },
  {
   "cell_type": "markdown",
   "id": "ab817c38",
   "metadata": {},
   "source": [
    "###### 3)Count how many sun,sat,thur,friday are there."
   ]
  },
  {
   "cell_type": "code",
   "execution_count": 6,
   "id": "ce3945be",
   "metadata": {},
   "outputs": [
    {
     "data": {
      "text/plain": [
       "array([0., 1., 2., 3.])"
      ]
     },
     "execution_count": 6,
     "metadata": {},
     "output_type": "execute_result"
    }
   ],
   "source": [
    "np.unique(x[:,5])"
   ]
  },
  {
   "cell_type": "code",
   "execution_count": 7,
   "id": "9550fd0d",
   "metadata": {},
   "outputs": [
    {
     "data": {
      "text/plain": [
       "(array([0., 1., 2., 3.]), array([87, 76, 62, 19], dtype=int64))"
      ]
     },
     "execution_count": 7,
     "metadata": {},
     "output_type": "execute_result"
    }
   ],
   "source": [
    "np.unique(x[:,5],return_counts=True)"
   ]
  },
  {
   "cell_type": "markdown",
   "id": "7a5ee93d",
   "metadata": {},
   "source": [
    "###### 4)How many smokers are there?\n"
   ]
  },
  {
   "cell_type": "code",
   "execution_count": 8,
   "id": "23d6daa6",
   "metadata": {},
   "outputs": [
    {
     "data": {
      "text/plain": [
       "array([0., 1.])"
      ]
     },
     "execution_count": 8,
     "metadata": {},
     "output_type": "execute_result"
    }
   ],
   "source": [
    "np.unique(x[:,4])"
   ]
  },
  {
   "cell_type": "code",
   "execution_count": 9,
   "id": "30943d57",
   "metadata": {},
   "outputs": [
    {
     "name": "stdout",
     "output_type": "stream",
     "text": [
      "(array([0., 1.]), array([151,  93], dtype=int64))\n",
      "93.0\n"
     ]
    }
   ],
   "source": [
    "y=np.unique(x[:,4],return_counts=True)\n",
    "print(y)\n",
    "z=np.sum(x[:,4])\n",
    "print(z)"
   ]
  },
  {
   "cell_type": "markdown",
   "id": "899d5f3d",
   "metadata": {},
   "source": [
    "###### 5)What is the average tip given by female and male"
   ]
  },
  {
   "cell_type": "code",
   "execution_count": 10,
   "id": "d7f4ea0d",
   "metadata": {},
   "outputs": [
    {
     "name": "stdout",
     "output_type": "stream",
     "text": [
      "2.8334482758620685\n",
      "3.0896178343949043\n"
     ]
    }
   ],
   "source": [
    "gen =(x[:,3])\n",
    "tip=(x[:,2])\n",
    "total_tip_male = np.mean(tip[gen==0])\n",
    "total_tip_fem = np.mean(tip[gen==1])\n",
    "print(total_tip_male)\n",
    "print(total_tip_fem)"
   ]
  },
  {
   "cell_type": "markdown",
   "id": "f74f2e12",
   "metadata": {},
   "source": [
    "###### 6)How much amount have been spent by male and female"
   ]
  },
  {
   "cell_type": "code",
   "execution_count": 11,
   "id": "8939d25d",
   "metadata": {},
   "outputs": [
    {
     "name": "stdout",
     "output_type": "stream",
     "text": [
      "1817.4599999999996\n",
      "3741.89\n"
     ]
    }
   ],
   "source": [
    "gen =(x[:,3])\n",
    "total_bill=(x[:,1])\n",
    "tip =(x[:,2])\n",
    "tip_male = np.sum(tip[gen==0])\n",
    "tip_female =np.sum(tip[gen==1])\n",
    "amt_male = np.sum(total_bill[gen==0])\n",
    "amt_female = np.sum(total_bill[gen==1])\n",
    "total_male = tip_male + amt_male\n",
    "total_female = tip_female + amt_female\n",
    "print(total_male)\n",
    "print(total_female)\n"
   ]
  },
  {
   "cell_type": "markdown",
   "id": "6d2bec95",
   "metadata": {},
   "source": [
    "###### 7) What is the min and max tip given."
   ]
  },
  {
   "cell_type": "code",
   "execution_count": 15,
   "id": "32603800",
   "metadata": {},
   "outputs": [
    {
     "name": "stdout",
     "output_type": "stream",
     "text": [
      "1.0\n",
      "10.0\n"
     ]
    }
   ],
   "source": [
    "tip=x[:,2]\n",
    "min_tip = np.min(tip)\n",
    "print(min_tip)\n",
    "max_tip = np.max(tip)\n",
    "print(max_tip)"
   ]
  },
  {
   "cell_type": "markdown",
   "id": "d4418873",
   "metadata": {},
   "source": [
    "###### 8)How many males and female are going for dinner and lunch."
   ]
  },
  {
   "cell_type": "code",
   "execution_count": 19,
   "id": "d8d17275",
   "metadata": {},
   "outputs": [
    {
     "name": "stdout",
     "output_type": "stream",
     "text": [
      "No of males went for lunch: 52\n",
      "No of females went for lunch: 124\n",
      "No of males went for Dinner: 52\n",
      "No of female went for Dinner: 124\n"
     ]
    }
   ],
   "source": [
    "gender = x[:,3]\n",
    "time = x[:,6]\n",
    "male_lunch = np.sum((gender == 0) & (time == 1))\n",
    "female_lunch = np.sum((gender == 1) & (time == 1))\n",
    "male_lunch = np.sum((gender == 0) & (time == 0))\n",
    "female_lunch = np.sum((gender == 1) & (time == 0))\n",
    "print(\"No of males went for lunch:\", male_lunch )\n",
    "print(\"No of females went for lunch:\",female_lunch)\n",
    "print(\"No of males went for Dinner:\", male_lunch )\n",
    "print(\"No of female went for Dinner:\",female_lunch)"
   ]
  },
  {
   "cell_type": "markdown",
   "id": "b71d75b4",
   "metadata": {},
   "source": [
    "###### 9) find out the average size."
   ]
  },
  {
   "cell_type": "code",
   "execution_count": 36,
   "id": "e6d7db7b",
   "metadata": {},
   "outputs": [
    {
     "data": {
      "text/plain": [
       "2.569672131147541"
      ]
     },
     "execution_count": 36,
     "metadata": {},
     "output_type": "execute_result"
    }
   ],
   "source": [
    "size = x[:, 7]\n",
    "np.mean(size)"
   ]
  },
  {
   "cell_type": "markdown",
   "id": "245e9dbd",
   "metadata": {},
   "source": [
    "###### 10)How many female and male smokers are there.\n"
   ]
  },
  {
   "cell_type": "code",
   "execution_count": 31,
   "id": "3dfe79e3",
   "metadata": {},
   "outputs": [
    {
     "name": "stdout",
     "output_type": "stream",
     "text": [
      "No of male smokers: 33\n",
      "No of female smokers: 60\n"
     ]
    }
   ],
   "source": [
    "smoker = x[:, 4]\n",
    "gender = x[:, 3]\n",
    "x= np.sum((gender == 0) & (smoker == 1))\n",
    "y = np.sum((gender == 1) & (smoker == 1))\n",
    "print(\"No of male smokers:\", x)\n",
    "print(\"No of female smokers:\", y)"
   ]
  },
  {
   "cell_type": "code",
   "execution_count": null,
   "id": "df4c0d5c",
   "metadata": {},
   "outputs": [],
   "source": []
  },
  {
   "cell_type": "code",
   "execution_count": null,
   "id": "d21a70ec",
   "metadata": {},
   "outputs": [],
   "source": []
  },
  {
   "cell_type": "code",
   "execution_count": null,
   "id": "bba5ef62",
   "metadata": {},
   "outputs": [],
   "source": []
  },
  {
   "cell_type": "code",
   "execution_count": null,
   "id": "dd6ee34d",
   "metadata": {},
   "outputs": [],
   "source": []
  },
  {
   "cell_type": "code",
   "execution_count": null,
   "id": "87c2b282",
   "metadata": {},
   "outputs": [],
   "source": []
  },
  {
   "cell_type": "code",
   "execution_count": null,
   "id": "9e5a7f20",
   "metadata": {},
   "outputs": [],
   "source": []
  }
 ],
 "metadata": {
  "kernelspec": {
   "display_name": "Python 3 (ipykernel)",
   "language": "python",
   "name": "python3"
  },
  "language_info": {
   "codemirror_mode": {
    "name": "ipython",
    "version": 3
   },
   "file_extension": ".py",
   "mimetype": "text/x-python",
   "name": "python",
   "nbconvert_exporter": "python",
   "pygments_lexer": "ipython3",
   "version": "3.11.5"
  }
 },
 "nbformat": 4,
 "nbformat_minor": 5
}
